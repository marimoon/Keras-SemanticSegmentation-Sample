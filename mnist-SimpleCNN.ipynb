{
 "cells": [
  {
   "cell_type": "code",
   "execution_count": 17,
   "metadata": {},
   "outputs": [],
   "source": [
    "import tensorflow as tf\n",
    "from tensorflow.keras.datasets import mnist\n",
    "import numpy as np\n",
    "import os, sys\n",
    "\n",
    "import matplotlib\n",
    "from matplotlib import pyplot as plt\n",
    "%matplotlib inline"
   ]
  },
  {
   "cell_type": "markdown",
   "metadata": {},
   "source": [
    "Download mnist"
   ]
  },
  {
   "cell_type": "code",
   "execution_count": 18,
   "metadata": {},
   "outputs": [
    {
     "name": "stdout",
     "output_type": "stream",
     "text": [
      "load local npys\n"
     ]
    }
   ],
   "source": [
    "dataset_dir = \"dataset/mnist\"\n",
    "if os.path.exists(dataset_dir) is False:\n",
    "    (x_train, y_train), (x_test, y_test) = mnist.load_data()\n",
    "    os.makedirs(dataset_dir)\n",
    "    np.save(dataset_dir+\"/x_train.npy\", x_train)\n",
    "    np.save(dataset_dir+\"/y_train.npy\", y_train)\n",
    "    np.save(dataset_dir+\"/x_test.npy\", x_test)\n",
    "    np.save(dataset_dir+\"/y_test.npy\", x_test)\n",
    "    print(\"saved npys\")\n",
    "else:\n",
    "    x_train = np.load(dataset_dir+\"/x_train.npy\")\n",
    "    y_train = np.load(dataset_dir+\"/y_train.npy\")\n",
    "    x_test  = np.load(dataset_dir+\"/x_test.npy\")\n",
    "    y_test  = np.load(dataset_dir+\"/y_test.npy\")\n",
    "    print(\"load local npys\")"
   ]
  },
  {
   "cell_type": "code",
   "execution_count": 19,
   "metadata": {},
   "outputs": [
    {
     "name": "stdout",
     "output_type": "stream",
     "text": [
      "num(train)=60000, num(test)=10000\n"
     ]
    }
   ],
   "source": [
    "print(\"num(train)={0}, num(test)={1}\".format(len(y_train), len(y_test)) )"
   ]
  },
  {
   "cell_type": "code",
   "execution_count": 20,
   "metadata": {},
   "outputs": [
    {
     "data": {
      "text/plain": [
       "((60000, 28, 28), (60000,))"
      ]
     },
     "execution_count": 20,
     "metadata": {},
     "output_type": "execute_result"
    }
   ],
   "source": [
    "x_train.shape, y_train.shape"
   ]
  },
  {
   "cell_type": "markdown",
   "metadata": {},
   "source": [
    "pickup data"
   ]
  },
  {
   "cell_type": "code",
   "execution_count": 21,
   "metadata": {},
   "outputs": [
    {
     "data": {
      "text/plain": [
       "((50, 28, 28), (50,))"
      ]
     },
     "execution_count": 21,
     "metadata": {},
     "output_type": "execute_result"
    }
   ],
   "source": [
    "n_train = 50\n",
    "n_test  = 10\n",
    "x_train = x_train[:n_train, :,:]\n",
    "y_train = y_train[:n_train]\n",
    "x_test  = x_test[:n_test, :,:]\n",
    "y_test  = y_test[:n_test]\n",
    "\n",
    "x_train.shape, y_train.shape"
   ]
  },
  {
   "cell_type": "markdown",
   "metadata": {},
   "source": [
    "Create binary image"
   ]
  },
  {
   "cell_type": "code",
   "execution_count": 22,
   "metadata": {},
   "outputs": [
    {
     "data": {
      "text/plain": [
       "((50, 28, 28), (50, 28, 28))"
      ]
     },
     "execution_count": 22,
     "metadata": {},
     "output_type": "execute_result"
    }
   ],
   "source": [
    "x_train=x_train/255.0\n",
    "x_test =x_test/255.0\n",
    "\n",
    "y_train = x_train*1.0\n",
    "y_train[ y_train <= 0.5 ] = 0\n",
    "y_train[ y_train > 0.5 ] = 1\n",
    "\n",
    "y_test = x_test*1.0\n",
    "y_test[ y_test <= 0.5 ] = 0\n",
    "y_test[ y_test > 0.5 ] = 1\n",
    "\n",
    "x_train.shape, y_train.shape"
   ]
  },
  {
   "cell_type": "code",
   "execution_count": 23,
   "metadata": {},
   "outputs": [
    {
     "data": {
      "text/plain": [
       "((50, 28, 28, 1), (50, 28, 28, 1))"
      ]
     },
     "execution_count": 23,
     "metadata": {},
     "output_type": "execute_result"
    }
   ],
   "source": [
    "if len(x_train.shape) == 3:\n",
    "    x_train = np.reshape(x_train, x_train.shape+(1,))\n",
    "    y_train = np.reshape(y_train, y_train.shape+(1,))\n",
    "    x_test  = np.reshape(x_test,  x_test.shape+(1,))\n",
    "    y_test  = np.reshape(y_test,  y_test.shape+(1,))\n",
    "x_train.shape, y_train.shape"
   ]
  },
  {
   "cell_type": "code",
   "execution_count": 24,
   "metadata": {},
   "outputs": [
    {
     "data": {
      "text/plain": [
       "<matplotlib.image.AxesImage at 0x211ae4025c8>"
      ]
     },
     "execution_count": 24,
     "metadata": {},
     "output_type": "execute_result"
    },
    {
     "data": {
      "image/png": "[encoded data removed]",
      "text/plain": [
       "<Figure size 432x288 with 1 Axes>"
      ]
     },
     "metadata": {
      "needs_background": "light"
     },
     "output_type": "display_data"
    }
   ],
   "source": [
    "plt.imshow(x_train[0,:,:,0])"
   ]
  },
  {
   "cell_type": "code",
   "execution_count": 25,
   "metadata": {},
   "outputs": [
    {
     "data": {
      "text/plain": [
       "<matplotlib.image.AxesImage at 0x211b0507808>"
      ]
     },
     "execution_count": 25,
     "metadata": {},
     "output_type": "execute_result"
    },
    {
     "data": {
      "image/png": "[encoded data removed]",
      "text/plain": [
       "<Figure size 432x288 with 1 Axes>"
      ]
     },
     "metadata": {
      "needs_background": "light"
     },
     "output_type": "display_data"
    }
   ],
   "source": [
    "plt.imshow(y_train[0,:,:,0])"
   ]
  },
  {
   "cell_type": "markdown",
   "metadata": {},
   "source": [
    "one hot"
   ]
  },
  {
   "cell_type": "code",
   "execution_count": 26,
   "metadata": {},
   "outputs": [
    {
     "data": {
      "text/plain": [
       "(TensorShape([Dimension(50), Dimension(28), Dimension(28), Dimension(1), Dimension(2)]),\n",
       " TensorShape([Dimension(10), Dimension(28), Dimension(28), Dimension(1), Dimension(2)]))"
      ]
     },
     "execution_count": 26,
     "metadata": {},
     "output_type": "execute_result"
    }
   ],
   "source": [
    "y_train2 = tf.one_hot(y_train, 2)\n",
    "y_test2 = tf.one_hot(y_test, 2)\n",
    "y_train2.shape, y_test2.shape"
   ]
  },
  {
   "cell_type": "markdown",
   "metadata": {},
   "source": [
    "Session"
   ]
  },
  {
   "cell_type": "code",
   "execution_count": 27,
   "metadata": {},
   "outputs": [],
   "source": [
    "import tensorflow as tf\n",
    "config = tf.ConfigProto()\n",
    "config.gpu_options.allow_growth = True\n",
    "tf.keras.backend.set_session(tf.Session(config=config))"
   ]
  },
  {
   "cell_type": "markdown",
   "metadata": {},
   "source": [
    "Model"
   ]
  },
  {
   "cell_type": "code",
   "execution_count": 28,
   "metadata": {},
   "outputs": [],
   "source": [
    "from tensorflow.keras.models import *\n",
    "from tensorflow.keras.layers import *"
   ]
  },
  {
   "cell_type": "code",
   "execution_count": 29,
   "metadata": {},
   "outputs": [],
   "source": [
    "def conv_block(input, filters):\n",
    "    out = Conv2D(filters, kernel_size=(2,2), strides=1, padding='same')(input)\n",
    "    out = BatchNormalization()(out)\n",
    "    out = Activation('relu')(out)\n",
    "#    out = Conv2D(filters, kernel_size=(3,3), strides=1, padding='same')(out)\n",
    "#    out = BatchNormalization()(out)\n",
    "#    out = Activation('relu')(out)\n",
    "    return out\n",
    "\n",
    "def CNN(nClasses, input_shape=(28, 28, 1)):\n",
    "    inputs = Input(shape=input_shape)\n",
    "    conv1 = conv_block(inputs, 4)\n",
    "    conv2 = conv_block(conv1,  8)\n",
    "    conv3 = conv_block(conv2, 16)\n",
    "    conv4 = conv_block(conv3,  8)\n",
    "    conv5 = conv_block(conv4,  4)\n",
    "    out = Conv2D(nClasses, (3, 3), padding='same')(conv5)\n",
    "    out = Activation('softmax')(out)\n",
    "    out = tf.reshape( out, [-1, input_shape[0], input_shape[1], 1, nClasses] )\n",
    "    model = Model(inputs=[inputs], outputs=[out])\n",
    "    return model\n",
    "\n",
    "model = CNN(2, x_train.shape[1:])"
   ]
  },
  {
   "cell_type": "code",
   "execution_count": 30,
   "metadata": {},
   "outputs": [],
   "source": [
    "model.compile(loss='binary_crossentropy', optimizer='adam')"
   ]
  },
  {
   "cell_type": "code",
   "execution_count": 31,
   "metadata": {},
   "outputs": [
    {
     "name": "stdout",
     "output_type": "stream",
     "text": [
      "Model: \"model_1\"\n",
      "_________________________________________________________________\n",
      "Layer (type)                 Output Shape              Param #   \n",
      "=================================================================\n",
      "input_2 (InputLayer)         [(None, 28, 28, 1)]       0         \n",
      "_________________________________________________________________\n",
      "conv2d_6 (Conv2D)            (None, 28, 28, 4)         20        \n",
      "_________________________________________________________________\n",
      "batch_normalization_5 (Batch (None, 28, 28, 4)         16        \n",
      "_________________________________________________________________\n",
      "activation_6 (Activation)    (None, 28, 28, 4)         0         \n",
      "_________________________________________________________________\n",
      "conv2d_7 (Conv2D)            (None, 28, 28, 8)         136       \n",
      "_________________________________________________________________\n",
      "batch_normalization_6 (Batch (None, 28, 28, 8)         32        \n",
      "_________________________________________________________________\n",
      "activation_7 (Activation)    (None, 28, 28, 8)         0         \n",
      "_________________________________________________________________\n",
      "conv2d_8 (Conv2D)            (None, 28, 28, 16)        528       \n",
      "_________________________________________________________________\n",
      "batch_normalization_7 (Batch (None, 28, 28, 16)        64        \n",
      "_________________________________________________________________\n",
      "activation_8 (Activation)    (None, 28, 28, 16)        0         \n",
      "_________________________________________________________________\n",
      "conv2d_9 (Conv2D)            (None, 28, 28, 8)         520       \n",
      "_________________________________________________________________\n",
      "batch_normalization_8 (Batch (None, 28, 28, 8)         32        \n",
      "_________________________________________________________________\n",
      "activation_9 (Activation)    (None, 28, 28, 8)         0         \n",
      "_________________________________________________________________\n",
      "conv2d_10 (Conv2D)           (None, 28, 28, 4)         132       \n",
      "_________________________________________________________________\n",
      "batch_normalization_9 (Batch (None, 28, 28, 4)         16        \n",
      "_________________________________________________________________\n",
      "activation_10 (Activation)   (None, 28, 28, 4)         0         \n",
      "_________________________________________________________________\n",
      "conv2d_11 (Conv2D)           (None, 28, 28, 2)         74        \n",
      "_________________________________________________________________\n",
      "activation_11 (Activation)   (None, 28, 28, 2)         0         \n",
      "_________________________________________________________________\n",
      "tf_op_layer_Reshape_1 (Tenso [(None, 28, 28, 1, 2)]    0         \n",
      "=================================================================\n",
      "Total params: 1,570\n",
      "Trainable params: 1,490\n",
      "Non-trainable params: 80\n",
      "_________________________________________________________________\n"
     ]
    }
   ],
   "source": [
    "model.summary()"
   ]
  },
  {
   "cell_type": "markdown",
   "metadata": {},
   "source": [
    "Train"
   ]
  },
  {
   "cell_type": "code",
   "execution_count": 33,
   "metadata": {},
   "outputs": [
    {
     "name": "stdout",
     "output_type": "stream",
     "text": [
      "WARNING:tensorflow:When passing input data as arrays, do not specify `steps_per_epoch`/`steps` argument. Please use `batch_size` instead.\n",
      "Train on 5 samples\n",
      "Epoch 1/100\n",
      "5/5 [==============================] - 0s 14ms/step - loss: 0.0514\n",
      "Epoch 2/100\n",
      "5/5 [==============================] - 0s 11ms/step - loss: 0.0501\n",
      "Epoch 3/100\n",
      "5/5 [==============================] - 0s 13ms/step - loss: 0.0489\n",
      "Epoch 4/100\n",
      "5/5 [==============================] - 0s 13ms/step - loss: 0.0477\n",
      "Epoch 5/100\n",
      "5/5 [==============================] - 0s 13ms/step - loss: 0.0466\n",
      "Epoch 6/100\n",
      "5/5 [==============================] - 0s 13ms/step - loss: 0.0456\n",
      "Epoch 7/100\n",
      "5/5 [==============================] - 0s 13ms/step - loss: 0.0446\n",
      "Epoch 8/100\n",
      "5/5 [==============================] - 0s 13ms/step - loss: 0.0436\n",
      "Epoch 9/100\n",
      "5/5 [==============================] - 0s 13ms/step - loss: 0.0427\n",
      "Epoch 10/100\n",
      "5/5 [==============================] - 0s 13ms/step - loss: 0.0418\n",
      "Epoch 11/100\n",
      "5/5 [==============================] - 0s 13ms/step - loss: 0.0410\n",
      "Epoch 12/100\n",
      "5/5 [==============================] - 0s 13ms/step - loss: 0.0401\n",
      "Epoch 13/100\n",
      "5/5 [==============================] - 0s 13ms/step - loss: 0.0393\n",
      "Epoch 14/100\n",
      "5/5 [==============================] - 0s 13ms/step - loss: 0.0386\n",
      "Epoch 15/100\n",
      "5/5 [==============================] - 0s 13ms/step - loss: 0.0378\n",
      "Epoch 16/100\n",
      "5/5 [==============================] - 0s 13ms/step - loss: 0.0371\n",
      "Epoch 17/100\n",
      "5/5 [==============================] - 0s 13ms/step - loss: 0.0364\n",
      "Epoch 18/100\n",
      "5/5 [==============================] - 0s 13ms/step - loss: 0.0357\n",
      "Epoch 19/100\n",
      "5/5 [==============================] - 0s 14ms/step - loss: 0.0351\n",
      "Epoch 20/100\n",
      "5/5 [==============================] - 0s 12ms/step - loss: 0.0344\n",
      "Epoch 21/100\n",
      "5/5 [==============================] - 0s 14ms/step - loss: 0.0338\n",
      "Epoch 22/100\n",
      "5/5 [==============================] - 0s 13ms/step - loss: 0.0332\n",
      "Epoch 23/100\n",
      "5/5 [==============================] - 0s 13ms/step - loss: 0.0325\n",
      "Epoch 24/100\n",
      "5/5 [==============================] - 0s 13ms/step - loss: 0.0320\n",
      "Epoch 25/100\n",
      "5/5 [==============================] - 0s 13ms/step - loss: 0.0314\n",
      "Epoch 26/100\n",
      "5/5 [==============================] - 0s 13ms/step - loss: 0.0308\n",
      "Epoch 27/100\n",
      "5/5 [==============================] - 0s 13ms/step - loss: 0.0303\n",
      "Epoch 28/100\n",
      "5/5 [==============================] - 0s 13ms/step - loss: 0.0298\n",
      "Epoch 29/100\n",
      "5/5 [==============================] - 0s 13ms/step - loss: 0.0293\n",
      "Epoch 30/100\n",
      "5/5 [==============================] - 0s 13ms/step - loss: 0.0288\n",
      "Epoch 31/100\n",
      "5/5 [==============================] - 0s 13ms/step - loss: 0.0283\n",
      "Epoch 32/100\n",
      "5/5 [==============================] - 0s 13ms/step - loss: 0.0278\n",
      "Epoch 33/100\n",
      "5/5 [==============================] - 0s 13ms/step - loss: 0.0274\n",
      "Epoch 34/100\n",
      "5/5 [==============================] - 0s 13ms/step - loss: 0.0269\n",
      "Epoch 35/100\n",
      "5/5 [==============================] - 0s 14ms/step - loss: 0.0265\n",
      "Epoch 36/100\n",
      "5/5 [==============================] - 0s 13ms/step - loss: 0.0261\n",
      "Epoch 37/100\n",
      "5/5 [==============================] - 0s 13ms/step - loss: 0.0257\n",
      "Epoch 38/100\n",
      "5/5 [==============================] - 0s 13ms/step - loss: 0.0253\n",
      "Epoch 39/100\n",
      "5/5 [==============================] - 0s 13ms/step - loss: 0.0249\n",
      "Epoch 40/100\n",
      "5/5 [==============================] - 0s 13ms/step - loss: 0.0245\n",
      "Epoch 41/100\n",
      "5/5 [==============================] - 0s 13ms/step - loss: 0.0241\n",
      "Epoch 42/100\n",
      "5/5 [==============================] - 0s 13ms/step - loss: 0.0237\n",
      "Epoch 43/100\n",
      "5/5 [==============================] - 0s 13ms/step - loss: 0.0234\n",
      "Epoch 44/100\n",
      "5/5 [==============================] - 0s 13ms/step - loss: 0.0230\n",
      "Epoch 45/100\n",
      "5/5 [==============================] - 0s 13ms/step - loss: 0.0227\n",
      "Epoch 46/100\n",
      "5/5 [==============================] - 0s 13ms/step - loss: 0.0224\n",
      "Epoch 47/100\n",
      "5/5 [==============================] - 0s 13ms/step - loss: 0.0221\n",
      "Epoch 48/100\n",
      "5/5 [==============================] - 0s 13ms/step - loss: 0.0218\n",
      "Epoch 49/100\n",
      "5/5 [==============================] - 0s 13ms/step - loss: 0.0215\n",
      "Epoch 50/100\n",
      "5/5 [==============================] - 0s 13ms/step - loss: 0.0212\n",
      "Epoch 51/100\n",
      "5/5 [==============================] - 0s 13ms/step - loss: 0.0209\n",
      "Epoch 52/100\n",
      "5/5 [==============================] - 0s 13ms/step - loss: 0.0206\n",
      "Epoch 53/100\n",
      "5/5 [==============================] - 0s 14ms/step - loss: 0.0204\n",
      "Epoch 54/100\n",
      "5/5 [==============================] - 0s 13ms/step - loss: 0.0201\n",
      "Epoch 55/100\n",
      "5/5 [==============================] - 0s 13ms/step - loss: 0.0198\n",
      "Epoch 56/100\n",
      "5/5 [==============================] - 0s 13ms/step - loss: 0.0196\n",
      "Epoch 57/100\n",
      "5/5 [==============================] - 0s 13ms/step - loss: 0.0193\n",
      "Epoch 58/100\n",
      "5/5 [==============================] - 0s 13ms/step - loss: 0.0191\n",
      "Epoch 59/100\n",
      "5/5 [==============================] - 0s 13ms/step - loss: 0.0188\n",
      "Epoch 60/100\n",
      "5/5 [==============================] - 0s 13ms/step - loss: 0.0186\n",
      "Epoch 61/100\n",
      "5/5 [==============================] - 0s 13ms/step - loss: 0.0184\n",
      "Epoch 62/100\n",
      "5/5 [==============================] - 0s 13ms/step - loss: 0.0181\n",
      "Epoch 63/100\n",
      "5/5 [==============================] - 0s 13ms/step - loss: 0.0179\n",
      "Epoch 64/100\n",
      "5/5 [==============================] - 0s 13ms/step - loss: 0.0177\n",
      "Epoch 65/100\n",
      "5/5 [==============================] - 0s 13ms/step - loss: 0.0174\n",
      "Epoch 66/100\n",
      "5/5 [==============================] - 0s 14ms/step - loss: 0.0172\n",
      "Epoch 67/100\n",
      "5/5 [==============================] - 0s 13ms/step - loss: 0.0170\n",
      "Epoch 68/100\n",
      "5/5 [==============================] - 0s 13ms/step - loss: 0.0168\n",
      "Epoch 69/100\n",
      "5/5 [==============================] - 0s 13ms/step - loss: 0.0166\n",
      "Epoch 70/100\n",
      "5/5 [==============================] - 0s 13ms/step - loss: 0.0164\n",
      "Epoch 71/100\n",
      "5/5 [==============================] - 0s 13ms/step - loss: 0.0162\n",
      "Epoch 72/100\n",
      "5/5 [==============================] - 0s 13ms/step - loss: 0.0160\n",
      "Epoch 73/100\n",
      "5/5 [==============================] - 0s 13ms/step - loss: 0.0158\n",
      "Epoch 74/100\n",
      "5/5 [==============================] - 0s 12ms/step - loss: 0.0156\n",
      "Epoch 75/100\n",
      "5/5 [==============================] - 0s 13ms/step - loss: 0.0154\n",
      "Epoch 76/100\n",
      "5/5 [==============================] - 0s 13ms/step - loss: 0.0152\n",
      "Epoch 77/100\n",
      "5/5 [==============================] - 0s 13ms/step - loss: 0.0150\n",
      "Epoch 78/100\n",
      "5/5 [==============================] - 0s 13ms/step - loss: 0.0149\n",
      "Epoch 79/100\n",
      "5/5 [==============================] - 0s 13ms/step - loss: 0.0147\n",
      "Epoch 80/100\n",
      "5/5 [==============================] - 0s 13ms/step - loss: 0.0145\n",
      "Epoch 81/100\n",
      "5/5 [==============================] - 0s 13ms/step - loss: 0.0144\n",
      "Epoch 82/100\n",
      "5/5 [==============================] - 0s 13ms/step - loss: 0.0142\n",
      "Epoch 83/100\n",
      "5/5 [==============================] - 0s 13ms/step - loss: 0.0141\n",
      "Epoch 84/100\n",
      "5/5 [==============================] - 0s 13ms/step - loss: 0.0139\n",
      "Epoch 85/100\n",
      "5/5 [==============================] - 0s 13ms/step - loss: 0.0138\n",
      "Epoch 86/100\n",
      "5/5 [==============================] - 0s 13ms/step - loss: 0.0136\n",
      "Epoch 87/100\n",
      "5/5 [==============================] - 0s 13ms/step - loss: 0.0135\n",
      "Epoch 88/100\n",
      "5/5 [==============================] - 0s 13ms/step - loss: 0.0133\n",
      "Epoch 89/100\n",
      "5/5 [==============================] - 0s 13ms/step - loss: 0.0132\n",
      "Epoch 90/100\n",
      "5/5 [==============================] - 0s 13ms/step - loss: 0.0131\n",
      "Epoch 91/100\n",
      "5/5 [==============================] - 0s 13ms/step - loss: 0.0129\n",
      "Epoch 92/100\n",
      "5/5 [==============================] - 0s 13ms/step - loss: 0.0128\n",
      "Epoch 93/100\n",
      "5/5 [==============================] - 0s 13ms/step - loss: 0.0127\n",
      "Epoch 94/100\n",
      "5/5 [==============================] - 0s 13ms/step - loss: 0.0126\n",
      "Epoch 95/100\n",
      "5/5 [==============================] - 0s 13ms/step - loss: 0.0124\n",
      "Epoch 96/100\n",
      "5/5 [==============================] - 0s 13ms/step - loss: 0.0123\n",
      "Epoch 97/100\n",
      "5/5 [==============================] - 0s 13ms/step - loss: 0.0122\n",
      "Epoch 98/100\n",
      "5/5 [==============================] - 0s 13ms/step - loss: 0.0121\n",
      "Epoch 99/100\n",
      "5/5 [==============================] - 0s 13ms/step - loss: 0.0120\n",
      "Epoch 100/100\n",
      "5/5 [==============================] - 0s 13ms/step - loss: 0.0119\n"
     ]
    },
    {
     "data": {
      "text/plain": [
       "<tensorflow.python.keras.callbacks.History at 0x211cc533ec8>"
      ]
     },
     "execution_count": 33,
     "metadata": {},
     "output_type": "execute_result"
    }
   ],
   "source": [
    "model.fit( x=x_train, y=y_train2, batch_size=10, steps_per_epoch=n_train//10,\n",
    "          epochs=100, verbose=1, shuffle=True)"
   ]
  },
  {
   "cell_type": "markdown",
   "metadata": {},
   "source": [
    "Test"
   ]
  },
  {
   "cell_type": "code",
   "execution_count": 42,
   "metadata": {},
   "outputs": [],
   "source": [
    "tmp = model.predict( x_test[0:5,:,:,:] )"
   ]
  },
  {
   "cell_type": "code",
   "execution_count": 43,
   "metadata": {},
   "outputs": [
    {
     "data": {
      "text/plain": [
       "(5, 28, 28, 1, 2)"
      ]
     },
     "execution_count": 43,
     "metadata": {},
     "output_type": "execute_result"
    }
   ],
   "source": [
    "tmp.shape"
   ]
  },
  {
   "cell_type": "code",
   "execution_count": 44,
   "metadata": {},
   "outputs": [
    {
     "data": {
      "text/plain": [
       "<matplotlib.image.AxesImage at 0x21213e71348>"
      ]
     },
     "execution_count": 44,
     "metadata": {},
     "output_type": "execute_result"
    },
    {
     "data": {
      "image/png": "[encoded data removed]",
      "text/plain": [
       "<Figure size 432x288 with 1 Axes>"
      ]
     },
     "metadata": {
      "needs_background": "light"
     },
     "output_type": "display_data"
    }
   ],
   "source": [
    "plt.imshow(x_test[0,:,:,0])"
   ]
  },
  {
   "cell_type": "code",
   "execution_count": 45,
   "metadata": {},
   "outputs": [
    {
     "data": {
      "text/plain": [
       "<matplotlib.image.AxesImage at 0x21213ec2e48>"
      ]
     },
     "execution_count": 45,
     "metadata": {},
     "output_type": "execute_result"
    },
    {
     "data": {
      "image/png": "[encoded data removed]",
      "text/plain": [
       "<Figure size 432x288 with 1 Axes>"
      ]
     },
     "metadata": {
      "needs_background": "light"
     },
     "output_type": "display_data"
    }
   ],
   "source": [
    "plt.imshow(tmp[0,:,:,0,1])"
   ]
  },
  {
   "cell_type": "code",
   "execution_count": 46,
   "metadata": {},
   "outputs": [
    {
     "data": {
      "text/plain": [
       "<matplotlib.image.AxesImage at 0x21214efc308>"
      ]
     },
     "execution_count": 46,
     "metadata": {},
     "output_type": "execute_result"
    },
    {
     "data": {
      "image/png": "[encoded data removed]",
      "text/plain": [
       "<Figure size 432x288 with 1 Axes>"
      ]
     },
     "metadata": {
      "needs_background": "light"
     },
     "output_type": "display_data"
    }
   ],
   "source": [
    "plt.imshow(x_test[1,:,:,0])"
   ]
  },
  {
   "cell_type": "code",
   "execution_count": 47,
   "metadata": {},
   "outputs": [
    {
     "data": {
      "text/plain": [
       "<matplotlib.image.AxesImage at 0x21214f60748>"
      ]
     },
     "execution_count": 47,
     "metadata": {},
     "output_type": "execute_result"
    },
    {
     "data": {
      "image/png": "[encoded data removed]",
      "text/plain": [
       "<Figure size 432x288 with 1 Axes>"
      ]
     },
     "metadata": {
      "needs_background": "light"
     },
     "output_type": "display_data"
    }
   ],
   "source": [
    "plt.imshow(tmp[1,:,:,0,1])"
   ]
  },
  {
   "cell_type": "code",
   "execution_count": 48,
   "metadata": {},
   "outputs": [
    {
     "data": {
      "text/plain": [
       "<matplotlib.image.AxesImage at 0x21214fc4848>"
      ]
     },
     "execution_count": 48,
     "metadata": {},
     "output_type": "execute_result"
    },
    {
     "data": {
      "image/png": "[encoded data removed]",
      "text/plain": [
       "<Figure size 432x288 with 1 Axes>"
      ]
     },
     "metadata": {
      "needs_background": "light"
     },
     "output_type": "display_data"
    }
   ],
   "source": [
    "plt.imshow(x_test[2,:,:,0])"
   ]
  },
  {
   "cell_type": "code",
   "execution_count": 49,
   "metadata": {},
   "outputs": [
    {
     "data": {
      "text/plain": [
       "<matplotlib.image.AxesImage at 0x21215028d48>"
      ]
     },
     "execution_count": 49,
     "metadata": {},
     "output_type": "execute_result"
    },
    {
     "data": {
      "image/png": "[encoded data removed]",
      "text/plain": [
       "<Figure size 432x288 with 1 Axes>"
      ]
     },
     "metadata": {
      "needs_background": "light"
     },
     "output_type": "display_data"
    }
   ],
   "source": [
    "plt.imshow(tmp[2,:,:,0,1])"
   ]
  },
  {
   "cell_type": "code",
   "execution_count": null,
   "metadata": {},
   "outputs": [],
   "source": []
  }
 ],
 "metadata": {
  "kernelspec": {
   "display_name": "Python 3",
   "language": "python",
   "name": "python3"
  },
  "language_info": {
   "codemirror_mode": {
    "name": "ipython",
    "version": 3
   },
   "file_extension": ".py",
   "mimetype": "text/x-python",
   "name": "python",
   "nbconvert_exporter": "python",
   "pygments_lexer": "ipython3",
   "version": "3.7.7"
  }
 },
 "nbformat": 4,
 "nbformat_minor": 2
}
