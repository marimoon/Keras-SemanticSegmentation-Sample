{
 "cells": [
  {
   "cell_type": "code",
   "execution_count": 1,
   "metadata": {},
   "outputs": [],
   "source": [
    "import tensorflow as tf\n",
    "from tensorflow.keras.datasets import mnist\n",
    "import numpy as np\n",
    "import os, sys\n",
    "\n",
    "import matplotlib\n",
    "from matplotlib import pyplot as plt\n",
    "%matplotlib inline"
   ]
  },
  {
   "cell_type": "markdown",
   "metadata": {},
   "source": [
    "Download mnist"
   ]
  },
  {
   "cell_type": "code",
   "execution_count": 2,
   "metadata": {},
   "outputs": [
    {
     "name": "stdout",
     "output_type": "stream",
     "text": [
      "load local npys\n"
     ]
    }
   ],
   "source": [
    "dataset_dir = \"dataset/mnist\"\n",
    "if os.path.exists(dataset_dir) is False:\n",
    "    (x_train, y_train), (x_test, y_test) = mnist.load_data()\n",
    "    os.makedirs(dataset_dir)\n",
    "    np.save(dataset_dir+\"/x_train.npy\", x_train)\n",
    "    np.save(dataset_dir+\"/y_train.npy\", y_train)\n",
    "    np.save(dataset_dir+\"/x_test.npy\", x_test)\n",
    "    np.save(dataset_dir+\"/y_test.npy\", x_test)\n",
    "    print(\"saved npys\")\n",
    "else:\n",
    "    x_train = np.load(dataset_dir+\"/x_train.npy\")\n",
    "    y_train = np.load(dataset_dir+\"/y_train.npy\")\n",
    "    x_test  = np.load(dataset_dir+\"/x_test.npy\")\n",
    "    y_test  = np.load(dataset_dir+\"/y_test.npy\")\n",
    "    print(\"load local npys\")"
   ]
  },
  {
   "cell_type": "code",
   "execution_count": 3,
   "metadata": {},
   "outputs": [
    {
     "name": "stdout",
     "output_type": "stream",
     "text": [
      "num(train)=60000, num(test)=10000\n"
     ]
    }
   ],
   "source": [
    "print(\"num(train)={0}, num(test)={1}\".format(len(y_train), len(y_test)) )"
   ]
  },
  {
   "cell_type": "code",
   "execution_count": 4,
   "metadata": {},
   "outputs": [
    {
     "data": {
      "text/plain": [
       "((60000, 28, 28), (60000,))"
      ]
     },
     "execution_count": 4,
     "metadata": {},
     "output_type": "execute_result"
    }
   ],
   "source": [
    "x_train.shape, y_train.shape"
   ]
  },
  {
   "cell_type": "markdown",
   "metadata": {},
   "source": [
    "pickup data"
   ]
  },
  {
   "cell_type": "code",
   "execution_count": 5,
   "metadata": {},
   "outputs": [
    {
     "data": {
      "text/plain": [
       "((50, 28, 28), (50,))"
      ]
     },
     "execution_count": 5,
     "metadata": {},
     "output_type": "execute_result"
    }
   ],
   "source": [
    "n_train = 50\n",
    "n_test  = 10\n",
    "x_train = x_train[:n_train, :,:]\n",
    "y_train = y_train[:n_train]\n",
    "x_test  = x_test[:n_test, :,:]\n",
    "y_test  = y_test[:n_test]\n",
    "\n",
    "x_train.shape, y_train.shape"
   ]
  },
  {
   "cell_type": "markdown",
   "metadata": {},
   "source": [
    "Create binary image"
   ]
  },
  {
   "cell_type": "code",
   "execution_count": 6,
   "metadata": {},
   "outputs": [
    {
     "data": {
      "text/plain": [
       "((50, 28, 28), (50, 28, 28))"
      ]
     },
     "execution_count": 6,
     "metadata": {},
     "output_type": "execute_result"
    }
   ],
   "source": [
    "x_train=x_train/255.0\n",
    "x_test =x_test/255.0\n",
    "\n",
    "y_train = x_train*1.0\n",
    "y_train[ y_train <= 0.5 ] = 0\n",
    "y_train[ y_train > 0.5 ] = 1\n",
    "\n",
    "y_test = x_test*1.0\n",
    "y_test[ y_test <= 0.5 ] = 0\n",
    "y_test[ y_test > 0.5 ] = 1\n",
    "\n",
    "x_train.shape, y_train.shape"
   ]
  },
  {
   "cell_type": "code",
   "execution_count": 7,
   "metadata": {},
   "outputs": [
    {
     "data": {
      "text/plain": [
       "((50, 28, 28, 1), (50, 28, 28, 1))"
      ]
     },
     "execution_count": 7,
     "metadata": {},
     "output_type": "execute_result"
    }
   ],
   "source": [
    "if len(x_train.shape) == 3:\n",
    "    x_train = np.reshape(x_train, x_train.shape+(1,))\n",
    "    y_train = np.reshape(y_train, y_train.shape+(1,))\n",
    "    x_test  = np.reshape(x_test,  x_test.shape+(1,))\n",
    "    y_test  = np.reshape(y_test,  y_test.shape+(1,))\n",
    "x_train.shape, y_train.shape"
   ]
  },
  {
   "cell_type": "code",
   "execution_count": 8,
   "metadata": {},
   "outputs": [
    {
     "data": {
      "text/plain": [
       "<matplotlib.image.AxesImage at 0x2830bac2f08>"
      ]
     },
     "execution_count": 8,
     "metadata": {},
     "output_type": "execute_result"
    },
    {
     "data": {
      "image/png": "[encoded data removed]",
      "text/plain": [
       "<Figure size 432x288 with 1 Axes>"
      ]
     },
     "metadata": {
      "needs_background": "light"
     },
     "output_type": "display_data"
    }
   ],
   "source": [
    "plt.imshow(x_train[0,:,:,0])"
   ]
  },
  {
   "cell_type": "code",
   "execution_count": 9,
   "metadata": {},
   "outputs": [
    {
     "data": {
      "text/plain": [
       "<matplotlib.image.AxesImage at 0x2830cb57448>"
      ]
     },
     "execution_count": 9,
     "metadata": {},
     "output_type": "execute_result"
    },
    {
     "data": {
      "image/png": "[encoded data removed]",
      "text/plain": [
       "<Figure size 432x288 with 1 Axes>"
      ]
     },
     "metadata": {
      "needs_background": "light"
     },
     "output_type": "display_data"
    }
   ],
   "source": [
    "plt.imshow(y_train[0,:,:,0])"
   ]
  },
  {
   "cell_type": "markdown",
   "metadata": {},
   "source": [
    "one hot"
   ]
  },
  {
   "cell_type": "code",
   "execution_count": 10,
   "metadata": {},
   "outputs": [
    {
     "data": {
      "text/plain": [
       "(TensorShape([Dimension(50), Dimension(28), Dimension(28), Dimension(1), Dimension(2)]),\n",
       " TensorShape([Dimension(10), Dimension(28), Dimension(28), Dimension(1), Dimension(2)]))"
      ]
     },
     "execution_count": 10,
     "metadata": {},
     "output_type": "execute_result"
    }
   ],
   "source": [
    "y_train2 = tf.one_hot(y_train, 2)\n",
    "y_test2 = tf.one_hot(y_test, 2)\n",
    "y_train2.shape, y_test2.shape"
   ]
  },
  {
   "cell_type": "markdown",
   "metadata": {},
   "source": [
    "Session"
   ]
  },
  {
   "cell_type": "code",
   "execution_count": 11,
   "metadata": {},
   "outputs": [],
   "source": [
    "import tensorflow as tf\n",
    "config = tf.ConfigProto()\n",
    "config.gpu_options.allow_growth = True\n",
    "tf.keras.backend.set_session(tf.Session(config=config))"
   ]
  },
  {
   "cell_type": "markdown",
   "metadata": {},
   "source": [
    "Model"
   ]
  },
  {
   "cell_type": "code",
   "execution_count": 12,
   "metadata": {},
   "outputs": [],
   "source": [
    "from tensorflow.keras.models import *\n",
    "from tensorflow.keras.layers import *"
   ]
  },
  {
   "cell_type": "code",
   "execution_count": 13,
   "metadata": {},
   "outputs": [
    {
     "name": "stdout",
     "output_type": "stream",
     "text": [
      "WARNING:tensorflow:From C:\\Users\\mhomm\\Anaconda3\\envs\\ds\\lib\\site-packages\\tensorflow_core\\python\\ops\\resource_variable_ops.py:1630: calling BaseResourceVariable.__init__ (from tensorflow.python.ops.resource_variable_ops) with constraint is deprecated and will be removed in a future version.\n",
      "Instructions for updating:\n",
      "If using Keras pass *_constraint arguments to layers.\n"
     ]
    }
   ],
   "source": [
    "def conv_block(input, filters):\n",
    "    out = Conv2D(filters, kernel_size=(2,2), strides=1, padding='same')(input)\n",
    "    out = BatchNormalization()(out)\n",
    "    out = Activation('relu')(out)\n",
    "#    out = Conv2D(filters, kernel_size=(3,3), strides=1, padding='same')(out)\n",
    "#    out = BatchNormalization()(out)\n",
    "#    out = Activation('relu')(out)\n",
    "    return out\n",
    "\n",
    "def CNN(nClasses, input_shape=(28, 28, 1)):\n",
    "    inputs = Input(shape=input_shape)\n",
    "    conv1 = conv_block(inputs, 4)\n",
    "    conv2 = conv_block(conv1,  8)\n",
    "    conv3 = conv_block(conv2, 16)\n",
    "    conv4 = conv_block(conv3,  8)\n",
    "    conv5 = conv_block(conv4,  4)\n",
    "    out = Conv2D(nClasses, (3, 3), padding='same')(conv5)\n",
    "    out = Activation('softmax')(out)\n",
    "    out = tf.reshape( out, [-1, input_shape[0], input_shape[1], 1, nClasses] )\n",
    "    model = Model(inputs=[inputs], outputs=[out])\n",
    "    return model\n",
    "\n",
    "model = CNN(2, x_train.shape[1:])"
   ]
  },
  {
   "cell_type": "code",
   "execution_count": 14,
   "metadata": {},
   "outputs": [],
   "source": [
    "model.compile(loss='binary_crossentropy', optimizer='adam')"
   ]
  },
  {
   "cell_type": "code",
   "execution_count": 15,
   "metadata": {},
   "outputs": [
    {
     "name": "stdout",
     "output_type": "stream",
     "text": [
      "Model: \"model\"\n",
      "_________________________________________________________________\n",
      "Layer (type)                 Output Shape              Param #   \n",
      "=================================================================\n",
      "input_1 (InputLayer)         [(None, 28, 28, 1)]       0         \n",
      "_________________________________________________________________\n",
      "conv2d (Conv2D)              (None, 28, 28, 4)         20        \n",
      "_________________________________________________________________\n",
      "batch_normalization (BatchNo (None, 28, 28, 4)         16        \n",
      "_________________________________________________________________\n",
      "activation (Activation)      (None, 28, 28, 4)         0         \n",
      "_________________________________________________________________\n",
      "conv2d_1 (Conv2D)            (None, 28, 28, 8)         136       \n",
      "_________________________________________________________________\n",
      "batch_normalization_1 (Batch (None, 28, 28, 8)         32        \n",
      "_________________________________________________________________\n",
      "activation_1 (Activation)    (None, 28, 28, 8)         0         \n",
      "_________________________________________________________________\n",
      "conv2d_2 (Conv2D)            (None, 28, 28, 16)        528       \n",
      "_________________________________________________________________\n",
      "batch_normalization_2 (Batch (None, 28, 28, 16)        64        \n",
      "_________________________________________________________________\n",
      "activation_2 (Activation)    (None, 28, 28, 16)        0         \n",
      "_________________________________________________________________\n",
      "conv2d_3 (Conv2D)            (None, 28, 28, 8)         520       \n",
      "_________________________________________________________________\n",
      "batch_normalization_3 (Batch (None, 28, 28, 8)         32        \n",
      "_________________________________________________________________\n",
      "activation_3 (Activation)    (None, 28, 28, 8)         0         \n",
      "_________________________________________________________________\n",
      "conv2d_4 (Conv2D)            (None, 28, 28, 4)         132       \n",
      "_________________________________________________________________\n",
      "batch_normalization_4 (Batch (None, 28, 28, 4)         16        \n",
      "_________________________________________________________________\n",
      "activation_4 (Activation)    (None, 28, 28, 4)         0         \n",
      "_________________________________________________________________\n",
      "conv2d_5 (Conv2D)            (None, 28, 28, 2)         74        \n",
      "_________________________________________________________________\n",
      "activation_5 (Activation)    (None, 28, 28, 2)         0         \n",
      "_________________________________________________________________\n",
      "tf_op_layer_Reshape (TensorF [(None, 28, 28, 1, 2)]    0         \n",
      "=================================================================\n",
      "Total params: 1,570\n",
      "Trainable params: 1,490\n",
      "Non-trainable params: 80\n",
      "_________________________________________________________________\n"
     ]
    }
   ],
   "source": [
    "model.summary()"
   ]
  },
  {
   "cell_type": "markdown",
   "metadata": {},
   "source": [
    "Before training"
   ]
  },
  {
   "cell_type": "code",
   "execution_count": 16,
   "metadata": {},
   "outputs": [],
   "source": [
    "tmp = model.predict( x_test[0:5,:,:,:] )"
   ]
  },
  {
   "cell_type": "code",
   "execution_count": 17,
   "metadata": {},
   "outputs": [
    {
     "data": {
      "text/plain": [
       "<matplotlib.image.AxesImage at 0x28313335fc8>"
      ]
     },
     "execution_count": 17,
     "metadata": {},
     "output_type": "execute_result"
    },
    {
     "data": {
      "image/png": "[encoded data removed]",
      "text/plain": [
       "<Figure size 432x288 with 1 Axes>"
      ]
     },
     "metadata": {
      "needs_background": "light"
     },
     "output_type": "display_data"
    }
   ],
   "source": [
    "plt.imshow(x_test[0,:,:,0])"
   ]
  },
  {
   "cell_type": "code",
   "execution_count": 18,
   "metadata": {},
   "outputs": [
    {
     "data": {
      "text/plain": [
       "<matplotlib.image.AxesImage at 0x283133a00c8>"
      ]
     },
     "execution_count": 18,
     "metadata": {},
     "output_type": "execute_result"
    },
    {
     "data": {
      "image/png": "[encoded data removed]",
      "text/plain": [
       "<Figure size 432x288 with 1 Axes>"
      ]
     },
     "metadata": {
      "needs_background": "light"
     },
     "output_type": "display_data"
    }
   ],
   "source": [
    "plt.imshow(tmp[0,:,:,0,1])"
   ]
  },
  {
   "cell_type": "markdown",
   "metadata": {},
   "source": [
    "Train"
   ]
  },
  {
   "cell_type": "code",
   "execution_count": 19,
   "metadata": {},
   "outputs": [
    {
     "name": "stdout",
     "output_type": "stream",
     "text": [
      "WARNING:tensorflow:When passing input data as arrays, do not specify `steps_per_epoch`/`steps` argument. Please use `batch_size` instead.\n",
      "WARNING:tensorflow:From C:\\Users\\mhomm\\Anaconda3\\envs\\ds\\lib\\site-packages\\tensorflow_core\\python\\ops\\math_grad.py:1424: where (from tensorflow.python.ops.array_ops) is deprecated and will be removed in a future version.\n",
      "Instructions for updating:\n",
      "Use tf.where in 2.0, which has the same broadcast rule as np.where\n",
      "Train on 5 samples\n",
      "Epoch 1/30\n",
      "5/5 [==============================] - 1s 216ms/step - loss: 0.6397\n",
      "Epoch 2/30\n",
      "5/5 [==============================] - 0s 11ms/step - loss: 0.5687\n",
      "Epoch 3/30\n",
      "5/5 [==============================] - 0s 13ms/step - loss: 0.5173\n",
      "Epoch 4/30\n",
      "5/5 [==============================] - 0s 13ms/step - loss: 0.4697\n",
      "Epoch 5/30\n",
      "5/5 [==============================] - 0s 13ms/step - loss: 0.4280\n",
      "Epoch 6/30\n",
      "5/5 [==============================] - 0s 12ms/step - loss: 0.3920\n",
      "Epoch 7/30\n",
      "5/5 [==============================] - 0s 12ms/step - loss: 0.3597\n",
      "Epoch 8/30\n",
      "5/5 [==============================] - 0s 12ms/step - loss: 0.3302\n",
      "Epoch 9/30\n",
      "5/5 [==============================] - 0s 13ms/step - loss: 0.3034\n",
      "Epoch 10/30\n",
      "5/5 [==============================] - 0s 12ms/step - loss: 0.2797\n",
      "Epoch 11/30\n",
      "5/5 [==============================] - 0s 13ms/step - loss: 0.2586\n",
      "Epoch 12/30\n",
      "5/5 [==============================] - 0s 13ms/step - loss: 0.2390\n",
      "Epoch 13/30\n",
      "5/5 [==============================] - 0s 13ms/step - loss: 0.2202\n",
      "Epoch 14/30\n",
      "5/5 [==============================] - 0s 13ms/step - loss: 0.2016\n",
      "Epoch 15/30\n",
      "5/5 [==============================] - 0s 13ms/step - loss: 0.1835\n",
      "Epoch 16/30\n",
      "5/5 [==============================] - 0s 13ms/step - loss: 0.1666\n",
      "Epoch 17/30\n",
      "5/5 [==============================] - 0s 13ms/step - loss: 0.1513\n",
      "Epoch 18/30\n",
      "5/5 [==============================] - 0s 13ms/step - loss: 0.1378\n",
      "Epoch 19/30\n",
      "5/5 [==============================] - 0s 13ms/step - loss: 0.1260\n",
      "Epoch 20/30\n",
      "5/5 [==============================] - 0s 12ms/step - loss: 0.1158\n",
      "Epoch 21/30\n",
      "5/5 [==============================] - 0s 12ms/step - loss: 0.1071\n",
      "Epoch 22/30\n",
      "5/5 [==============================] - 0s 13ms/step - loss: 0.0995\n",
      "Epoch 23/30\n",
      "5/5 [==============================] - 0s 12ms/step - loss: 0.0929\n",
      "Epoch 24/30\n",
      "5/5 [==============================] - 0s 12ms/step - loss: 0.0872\n",
      "Epoch 25/30\n",
      "5/5 [==============================] - 0s 12ms/step - loss: 0.0822\n",
      "Epoch 26/30\n",
      "5/5 [==============================] - 0s 12ms/step - loss: 0.0778\n",
      "Epoch 27/30\n",
      "5/5 [==============================] - 0s 12ms/step - loss: 0.0739\n",
      "Epoch 28/30\n",
      "5/5 [==============================] - 0s 12ms/step - loss: 0.0704\n",
      "Epoch 29/30\n",
      "5/5 [==============================] - 0s 13ms/step - loss: 0.0673\n",
      "Epoch 30/30\n",
      "5/5 [==============================] - 0s 13ms/step - loss: 0.0645\n"
     ]
    },
    {
     "data": {
      "text/plain": [
       "<tensorflow.python.keras.callbacks.History at 0x2831379f688>"
      ]
     },
     "execution_count": 19,
     "metadata": {},
     "output_type": "execute_result"
    }
   ],
   "source": [
    "model.fit( x=x_train, y=y_train2, batch_size=10, steps_per_epoch=n_train//10,\n",
    "          epochs=30, verbose=1, shuffle=True)"
   ]
  },
  {
   "cell_type": "markdown",
   "metadata": {},
   "source": [
    "Test"
   ]
  },
  {
   "cell_type": "code",
   "execution_count": 20,
   "metadata": {},
   "outputs": [],
   "source": [
    "tmp = model.predict( x_test[0:5,:,:,:] )"
   ]
  },
  {
   "cell_type": "code",
   "execution_count": 21,
   "metadata": {},
   "outputs": [
    {
     "data": {
      "text/plain": [
       "<matplotlib.image.AxesImage at 0x28336a018c8>"
      ]
     },
     "execution_count": 21,
     "metadata": {},
     "output_type": "execute_result"
    },
    {
     "data": {
      "image/png": "[encoded data removed]",
      "text/plain": [
       "<Figure size 432x288 with 1 Axes>"
      ]
     },
     "metadata": {
      "needs_background": "light"
     },
     "output_type": "display_data"
    }
   ],
   "source": [
    "plt.imshow(x_test[0,:,:,0])"
   ]
  },
  {
   "cell_type": "code",
   "execution_count": 22,
   "metadata": {},
   "outputs": [
    {
     "data": {
      "text/plain": [
       "<matplotlib.image.AxesImage at 0x28336a67748>"
      ]
     },
     "execution_count": 22,
     "metadata": {},
     "output_type": "execute_result"
    },
    {
     "data": {
      "image/png": "[encoded data removed]",
      "text/plain": [
       "<Figure size 432x288 with 1 Axes>"
      ]
     },
     "metadata": {
      "needs_background": "light"
     },
     "output_type": "display_data"
    }
   ],
   "source": [
    "plt.imshow(tmp[0,:,:,0,1])"
   ]
  },
  {
   "cell_type": "markdown",
   "metadata": {},
   "source": [
    "Train2"
   ]
  },
  {
   "cell_type": "code",
   "execution_count": 27,
   "metadata": {},
   "outputs": [
    {
     "name": "stdout",
     "output_type": "stream",
     "text": [
      "WARNING:tensorflow:When passing input data as arrays, do not specify `steps_per_epoch`/`steps` argument. Please use `batch_size` instead.\n",
      "Train on 5 samples\n",
      "Epoch 1/30\n",
      "5/5 [==============================] - 0s 15ms/step - loss: 0.0619\n",
      "Epoch 2/30\n",
      "5/5 [==============================] - 0s 13ms/step - loss: 0.0596\n",
      "Epoch 3/30\n",
      "5/5 [==============================] - 0s 13ms/step - loss: 0.0574\n",
      "Epoch 4/30\n",
      "5/5 [==============================] - 0s 13ms/step - loss: 0.0555\n",
      "Epoch 5/30\n",
      "5/5 [==============================] - 0s 13ms/step - loss: 0.0536\n",
      "Epoch 6/30\n",
      "5/5 [==============================] - 0s 13ms/step - loss: 0.0519\n",
      "Epoch 7/30\n",
      "5/5 [==============================] - 0s 13ms/step - loss: 0.0503\n",
      "Epoch 8/30\n",
      "5/5 [==============================] - 0s 13ms/step - loss: 0.0489\n",
      "Epoch 9/30\n",
      "5/5 [==============================] - 0s 13ms/step - loss: 0.0475\n",
      "Epoch 10/30\n",
      "5/5 [==============================] - 0s 13ms/step - loss: 0.0462\n",
      "Epoch 11/30\n",
      "5/5 [==============================] - 0s 12ms/step - loss: 0.0449\n",
      "Epoch 12/30\n",
      "5/5 [==============================] - 0s 13ms/step - loss: 0.0438\n",
      "Epoch 13/30\n",
      "5/5 [==============================] - 0s 13ms/step - loss: 0.0427\n",
      "Epoch 14/30\n",
      "5/5 [==============================] - 0s 13ms/step - loss: 0.0416\n",
      "Epoch 15/30\n",
      "5/5 [==============================] - 0s 13ms/step - loss: 0.0406\n",
      "Epoch 16/30\n",
      "5/5 [==============================] - 0s 13ms/step - loss: 0.0396\n",
      "Epoch 17/30\n",
      "5/5 [==============================] - 0s 13ms/step - loss: 0.0387\n",
      "Epoch 18/30\n",
      "5/5 [==============================] - 0s 12ms/step - loss: 0.0378\n",
      "Epoch 19/30\n",
      "5/5 [==============================] - 0s 13ms/step - loss: 0.0370\n",
      "Epoch 20/30\n",
      "5/5 [==============================] - 0s 13ms/step - loss: 0.0361\n",
      "Epoch 21/30\n",
      "5/5 [==============================] - 0s 13ms/step - loss: 0.0354\n",
      "Epoch 22/30\n",
      "5/5 [==============================] - 0s 13ms/step - loss: 0.0346\n",
      "Epoch 23/30\n",
      "5/5 [==============================] - 0s 13ms/step - loss: 0.0339\n",
      "Epoch 24/30\n",
      "5/5 [==============================] - 0s 13ms/step - loss: 0.0333\n",
      "Epoch 25/30\n",
      "5/5 [==============================] - 0s 12ms/step - loss: 0.0326\n",
      "Epoch 26/30\n",
      "5/5 [==============================] - 0s 13ms/step - loss: 0.0320\n",
      "Epoch 27/30\n",
      "5/5 [==============================] - 0s 13ms/step - loss: 0.0314\n",
      "Epoch 28/30\n",
      "5/5 [==============================] - 0s 13ms/step - loss: 0.0309\n",
      "Epoch 29/30\n",
      "5/5 [==============================] - 0s 13ms/step - loss: 0.0303\n",
      "Epoch 30/30\n",
      "5/5 [==============================] - 0s 13ms/step - loss: 0.0298\n"
     ]
    },
    {
     "data": {
      "text/plain": [
       "<tensorflow.python.keras.callbacks.History at 0x2833e8f2108>"
      ]
     },
     "execution_count": 27,
     "metadata": {},
     "output_type": "execute_result"
    }
   ],
   "source": [
    "model.fit( x=x_train, y=y_train2, batch_size=10, steps_per_epoch=n_train//10,\n",
    "          epochs=30, verbose=1, shuffle=True)"
   ]
  },
  {
   "cell_type": "markdown",
   "metadata": {},
   "source": [
    "Test2"
   ]
  },
  {
   "cell_type": "code",
   "execution_count": 28,
   "metadata": {},
   "outputs": [],
   "source": [
    "tmp = model.predict( x_test[0:5,:,:,:] )"
   ]
  },
  {
   "cell_type": "code",
   "execution_count": 29,
   "metadata": {},
   "outputs": [
    {
     "data": {
      "text/plain": [
       "<matplotlib.image.AxesImage at 0x2833f01ef88>"
      ]
     },
     "execution_count": 29,
     "metadata": {},
     "output_type": "execute_result"
    },
    {
     "data": {
      "image/png": "[encoded data removed]",
      "text/plain": [
       "<Figure size 432x288 with 1 Axes>"
      ]
     },
     "metadata": {
      "needs_background": "light"
     },
     "output_type": "display_data"
    }
   ],
   "source": [
    "plt.imshow(tmp[0,:,:,0,1])"
   ]
  },
  {
   "cell_type": "code",
   "execution_count": null,
   "metadata": {},
   "outputs": [],
   "source": []
  }
 ],
 "metadata": {
  "kernelspec": {
   "display_name": "Python 3",
   "language": "python",
   "name": "python3"
  },
  "language_info": {
   "codemirror_mode": {
    "name": "ipython",
    "version": 3
   },
   "file_extension": ".py",
   "mimetype": "text/x-python",
   "name": "python",
   "nbconvert_exporter": "python",
   "pygments_lexer": "ipython3",
   "version": "3.7.7"
  }
 },
 "nbformat": 4,
 "nbformat_minor": 2
}
